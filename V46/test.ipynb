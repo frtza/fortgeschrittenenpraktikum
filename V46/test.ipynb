{
 "cells": [
  {
   "cell_type": "markdown",
   "id": "dc1c1f4d",
   "metadata": {},
   "source": [
    "### _V46_ Der Faraday-Effekt\n",
    "\n",
    "#### Vorläufige Auswertung"
   ]
  },
  {
   "cell_type": "code",
   "execution_count": 1,
   "id": "123fff4d",
   "metadata": {},
   "outputs": [],
   "source": [
    "%config InlineBackend.figure_formats = ['svg']\n",
    "\n",
    "import numpy as np\n",
    "import matplotlib.pyplot as plt\n",
    "import scipy.constants as const\n",
    "import uncertainties.unumpy as unp\n",
    "from uncertainties.unumpy import nominal_values as noms, std_devs as stds, uarray as uar"
   ]
  }
 ],
 "metadata": {
  "kernelspec": {
   "display_name": "Python 3 (ipykernel)",
   "language": "python",
   "name": "python3"
  },
  "language_info": {
   "codemirror_mode": {
    "name": "ipython",
    "version": 3
   },
   "file_extension": ".py",
   "mimetype": "text/x-python",
   "name": "python",
   "nbconvert_exporter": "python",
   "pygments_lexer": "ipython3",
   "version": "3.9.12"
  }
 },
 "nbformat": 4,
 "nbformat_minor": 5
}
